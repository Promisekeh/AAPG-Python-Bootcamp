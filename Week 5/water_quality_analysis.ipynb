{
 "cells": [
  {
   "cell_type": "markdown",
   "metadata": {},
   "source": [
    "# **AAPG WEEK 5**\n",
    "\n",
    "**PROJECT 1 : WATER QUALITY ANALYSIS**\n",
    "\n",
    "13th July 2024\n",
    "\n",
    "**Facilitators:**\n",
    "1. Giles Twiss\n",
    "2. Promise Ekeh\n",
    "\n",
    "\n"
   ]
  },
  {
   "cell_type": "markdown",
   "metadata": {},
   "source": [
    "# Data Description and Task Overview\n",
    "\n",
    "## Data Description\n",
    "\n",
    "This dataset contains measurements of various water quality parameters collected from different water sources over time. Below is a detailed description of each column in the dataset:\n",
    "\n",
    "1. **Index**: Unique identifier for each data entry.\n",
    "2. **pH**: The pH level of the water, indicating its acidity or alkalinity.\n",
    "3. **Iron**: Concentration of iron in the water (in mg/L).\n",
    "4. **Nitrate**: Concentration of nitrate in the water (in mg/L).\n",
    "5. **Chloride**: Concentration of chloride in the water (in mg/L).\n",
    "6. **Lead**: Concentration of lead in the water (in mg/L).\n",
    "7. **Zinc**: Concentration of zinc in the water (in mg/L).\n",
    "8. **Color**: The color of the water sample (e.g., Colorless, Faint Yellow).\n",
    "9. **Turbidity**: The cloudiness or haziness of the water, measured in Nephelometric Turbidity Units (NTU).\n",
    "10. **Fluoride**: Concentration of fluoride in the water (in mg/L).\n",
    "11. **Copper**: Concentration of copper in the water (in mg/L).\n",
    "12. **Odor**: Descriptive term for the odor of the water (e.g., odorless, faint odor).\n",
    "13. **Sulfate**: Concentration of sulfate in the water (in mg/L).\n",
    "14. **Conductivity**: The ability of the water to conduct electricity, measured in microsiemens per centimeter (µS/cm).\n",
    "15. **Chlorine**: Concentration of chlorine in the water (in mg/L).\n",
    "16. **Manganese**: Concentration of manganese in the water (in mg/L).\n",
    "17. **Total Dissolved Solids (TDS)**: Total concentration of dissolved substances in the water (in mg/L).\n",
    "18. **Source**: Source of the water sample (e.g., Lake, River, Ground).\n",
    "19. **Water Temperature**: Temperature of the water at the time of measurement (in °C).\n",
    "20. **Air Temperature**: Temperature of the air at the time of measurement (in °C).\n",
    "21. **Month**: Month when the sample was taken.\n",
    "22. **Day**: Day of the month when the sample was taken.\n",
    "23. **Time of Day**: Time of day when the sample was taken (e.g., 0 for midnight, 12 for noon).\n",
    "24. **Target**: Binary target variable indicating whether the water quality meets a certain standard (0 for meets standard, 1 for does not meet standard).\n"
   ]
  },
  {
   "cell_type": "markdown",
   "metadata": {},
   "source": [
    "## Task for Participants\n",
    "\n",
    "Participants are tasked with analyzing the water quality data to determine patterns, correlations, and insights that can help in understanding and managing water quality. Specific tasks include:\n",
    "\n",
    "1. **Data Cleaning and Preprocessing**:\n",
    "    - Handle missing or inconsistent data.\n",
    "    - Convert categorical data into numerical format if necessary.\n",
    "    - Normalize or standardize numerical features.\n",
    "\n",
    "2. **Exploratory Data Analysis (EDA)**:\n",
    "    - Generate summary statistics for each feature.\n",
    "    - Visualize data distributions and relationships between variables using plots (e.g., histograms, scatter plots, box plots).\n",
    "    - Identify any trends or anomalies in the data.\n",
    "\n",
    "3. **Feature Engineering**:\n",
    "    - Create new features that might be useful for prediction, such as interaction terms or aggregates.\n",
    "    - Evaluate the importance of different features for predicting water quality.\n",
    "\n",
    "4. **Model Building**:\n",
    "    - Split the data into training and testing sets.\n",
    "    - Train machine learning models to predict the target variable (water quality standard).\n",
    "    - Evaluate model performance using appropriate metrics (e.g., accuracy, precision, recall, F1-score).\n",
    "\n",
    "5. **Model Interpretation and Insights**:\n",
    "    - Interpret the model to understand which factors most influence water quality.\n",
    "    - Provide actionable insights based on model findings.\n",
    "    - Discuss potential interventions or policy recommendations to improve water quality."
   ]
  },
  {
   "cell_type": "markdown",
   "metadata": {},
   "source": [
    "# **Data Access**\n",
    "\n",
    "Download the `water_quality_dataset_100k.csv` dataset from the google drive\n",
    "\n",
    "https://drive.google.com/drive/folders/1k89P3amXikq3Fd_40GUVKjUav1YO6Zyl\n",
    "\n",
    "Thanks to one of you who pointed it out, the data had only one value as Target(only zeros). A new data has now been added to the google drive with and updated dataset\n",
    "\n",
    "`water_quality_dataset_100k_new.csv`"
   ]
  },
  {
   "cell_type": "markdown",
   "metadata": {},
   "source": [
    "## **Import Neccessary Libraries**"
   ]
  },
  {
   "cell_type": "code",
   "execution_count": null,
   "metadata": {},
   "outputs": [],
   "source": [
    "# write your code"
   ]
  },
  {
   "cell_type": "markdown",
   "metadata": {},
   "source": [
    "## **Read Data**\n",
    "![](image/data_snapshot.png)"
   ]
  },
  {
   "cell_type": "code",
   "execution_count": null,
   "metadata": {},
   "outputs": [],
   "source": [
    "# write your code"
   ]
  },
  {
   "cell_type": "markdown",
   "metadata": {},
   "source": [
    "# **Task 1: Data Cleaning and Preprocessing**\n"
   ]
  },
  {
   "cell_type": "markdown",
   "metadata": {},
   "source": [
    "## Step 1: Handle Missing or Inconsistent Data\n",
    "\n",
    "1. **Identify Missing Values:**\n",
    "   - Detect missing values in the dataset.\n"
   ]
  },
  {
   "cell_type": "code",
   "execution_count": null,
   "metadata": {},
   "outputs": [],
   "source": [
    "# Write you code for step 1.1"
   ]
  },
  {
   "cell_type": "markdown",
   "metadata": {},
   "source": [
    "\n",
    "2. **Impute or Remove Missing Values:**\n",
    "   - For numerical features, you can impute missing values using mean, median, or mode.\n",
    "   - For categorical features, you can impute missing values using the most frequent category or a placeholder such as 'Unknown'.\n",
    "   - Alternatively, remove rows with missing values if they are few and do not significantly impact the dataset.\n"
   ]
  },
  {
   "cell_type": "code",
   "execution_count": null,
   "metadata": {},
   "outputs": [],
   "source": [
    "# Write your code for step 1.2"
   ]
  },
  {
   "cell_type": "markdown",
   "metadata": {},
   "source": [
    "## Step 2: Convert Categorical Data into Numerical Format\n",
    "\n",
    "1. **Identify Categorical Features:**\n",
    "   - Features like `Color`, `Odor`, and `Source` are categorical.\n"
   ]
  },
  {
   "cell_type": "markdown",
   "metadata": {},
   "source": [
    "\n",
    "2. **Encode Categorical Features:**\n",
    "   - Use one-hot encoding for nominal categorical features (e.g., `Color`, `Odor`, `Source`).\n",
    "   - Use label encoding for ordinal categorical features, if any."
   ]
  },
  {
   "cell_type": "code",
   "execution_count": null,
   "metadata": {},
   "outputs": [],
   "source": [
    "# write your code"
   ]
  },
  {
   "cell_type": "markdown",
   "metadata": {},
   "source": [
    "## Step 3: Normalize or Standardize Numerical Features\n",
    "\n",
    "1. **Identify Numerical Features:**\n",
    "   - Features like `pH`, `Iron`, `Nitrate`, `Chloride`, etc., are numerical.\n",
    "\n",
    "2. **Normalize or Standardize:**\n",
    "   - Normalize the features using Min-Max scaling or Standardize the features to have a mean of 0 and a standard deviation of 1."
   ]
  },
  {
   "cell_type": "code",
   "execution_count": null,
   "metadata": {},
   "outputs": [],
   "source": [
    "# write your code"
   ]
  },
  {
   "cell_type": "markdown",
   "metadata": {},
   "source": [
    "## Explanation:\n",
    "1. SimpleImputer is used to handle missing values.\n",
    "2. OneHotEncoder is used for encoding categorical variables.\n",
    "3. MinMaxScaler is used to normalize numerical features.\n",
    "4. ColumnTransformer is used to apply different preprocessing steps to different columns.\n",
    "\n",
    "Ensure to replace 'your_data.csv' with the actual file path of your dataset. The preprocessed data will be saved in a new file called cleaned_data.csv. This cleaned and preprocessed data is now ready for further analysis or modeling."
   ]
  },
  {
   "cell_type": "markdown",
   "metadata": {},
   "source": [
    "\n",
    "# **Task 2. Exploratory Data Analysis (EDA)**"
   ]
  },
  {
   "cell_type": "markdown",
   "metadata": {},
   "source": [
    "## Exploratory Data Analysis (EDA)\n",
    "\n",
    "## Step 1: Generate Summary Statistics for Each Feature\n",
    "\n",
    "1. **Summary Statistics:**\n",
    "   - Use descriptive statistics to summarize the central tendency, dispersion, and shape of the dataset’s distribution for each feature."
   ]
  },
  {
   "cell_type": "code",
   "execution_count": null,
   "metadata": {},
   "outputs": [],
   "source": [
    "# Write your code"
   ]
  },
  {
   "cell_type": "markdown",
   "metadata": {},
   "source": [
    "## Step 2: Visualize Data Distributions and Relationships Between Variables\n",
    "\n",
    "1. **Histograms:**\n",
    "   - Visualize the distribution of numerical features.\n",
    "\n",
    "2. **Box Plots:**\n",
    "   - Identify outliers and understand the distribution of numerical features.\n",
    "\n",
    "3. **Scatter Plots:**\n",
    "   - Examine relationships between pairs of numerical features.\n",
    "\n",
    "4. **Line Plots:**\n",
    "   - Examine trends in numerical features.\n",
    "\n",
    "5. **Correlation Matrix and Heatmap:**\n",
    "   - Show the correlation between numerical features.\n",
    "\n",
    "6. **Count Plots:**\n",
    "   - Visualize the frequency of categorical features."
   ]
  },
  {
   "cell_type": "code",
   "execution_count": null,
   "metadata": {},
   "outputs": [],
   "source": [
    "# Write your code"
   ]
  },
  {
   "cell_type": "markdown",
   "metadata": {},
   "source": [
    "## Step 3: Identify Trends or Anomalies in the Data\n",
    "\n",
    "1. **Trend Analysis:**\n",
    "   - Look for patterns or trends over time or other categorical dimensions.\n",
    "\n",
    "2. **Anomaly Detection:**\n",
    "   - Identify any anomalies or unusual observations in the dataset."
   ]
  },
  {
   "cell_type": "code",
   "execution_count": 1,
   "metadata": {},
   "outputs": [],
   "source": [
    "# write your code"
   ]
  },
  {
   "cell_type": "markdown",
   "metadata": {},
   "source": [
    "## Explanation:\n",
    "1. Descriptive Statistics: Use describe() method to generate summary statistics for each feature.\n",
    "2. Histograms: Use hist() method to visualize the distribution of numerical features.\n",
    "3. Box Plots: Use boxplot() function to visualize outliers and understand the distribution of numerical features.\n",
    "4. Scatter Plots: Use pairplot() function from Seaborn to examine relationships between pairs of numerical features.\n",
    "5. Correlation Matrix and Heatmap: Use corr() method and heatmap() function from Seaborn to visualize the correlation between numerical features.\n",
    "6. Count Plots: Use countplot() function from Seaborn to visualize the frequency of categorical features.\n",
    "7. Trend Analysis: Group data by month and plot average water temperature over time to identify trends.\n",
    "8. Anomaly Detection: Use box plots to identify outliers in numerical features.\n",
    "9. Ensure to replace 'your_data.csv' with the actual file path of your dataset. These visualizations and analyses will help you understand the distributions, relationships, and potential anomalies in your data."
   ]
  },
  {
   "cell_type": "markdown",
   "metadata": {},
   "source": [
    "\n",
    "# **Task 3. Feature Engineering** (OPTIONAL - Increase the quality of the dataset)\n",
    "    \n"
   ]
  },
  {
   "cell_type": "markdown",
   "metadata": {},
   "source": [
    "## Step 1: Create New Features\n",
    "\n",
    "1. **Interaction Terms:**\n",
    "   - Create new features by multiplying or combining existing features to capture interactions between them.\n",
    "\n",
    "2. **Aggregate Features:**\n",
    "   - Create aggregate features such as mean, median, sum, or count of other features.\n"
   ]
  },
  {
   "cell_type": "code",
   "execution_count": 2,
   "metadata": {},
   "outputs": [],
   "source": [
    "# write your code"
   ]
  },
  {
   "cell_type": "markdown",
   "metadata": {},
   "source": [
    "## Step 2: Evaluate the Importance of Different Features for Predicting Water Quality\n",
    "\n",
    "1. **Feature Importance Using Tree-Based Models:**\n",
    "   - Use tree-based models like Random Forest to evaluate the importance of different features.\n",
    "\n",
    "2. **Correlation with Target:**\n",
    "   - Calculate the correlation of each feature with the target variable to evaluate their importance."
   ]
  },
  {
   "cell_type": "code",
   "execution_count": null,
   "metadata": {},
   "outputs": [],
   "source": [
    "# write your code"
   ]
  },
  {
   "cell_type": "markdown",
   "metadata": {},
   "source": [
    "# Explanation:\n",
    "1. **Interaction Terms**: Create new features by combining existing features to capture interactions (e.g., pH_Iron, Nitrate_Chloride).\n",
    "2. **Aggregate Features**: Create new aggregate features such as Total_Metals and Mean_Metals by summing or averaging relevant columns.\n",
    "3. **Feature Importance Using Tree-Based Models**: Use a Random Forest model to evaluate the importance of each feature.\n",
    "4. **Correlation with Target**: Calculate the correlation of each feature with the target variable to understand their individual impact on the prediction."
   ]
  },
  {
   "cell_type": "markdown",
   "metadata": {},
   "source": [
    "\n",
    "# **Task 4. Model Building**\n",
    "## Step 1: Split the Data into Training and Testing Sets\n",
    "   - Use a function to split the dataset into training and testing sets.\n"
   ]
  },
  {
   "cell_type": "code",
   "execution_count": null,
   "metadata": {},
   "outputs": [],
   "source": [
    "# write your code"
   ]
  },
  {
   "cell_type": "markdown",
   "metadata": {},
   "source": [
    "## Step 2: Train Machine Learning Models to Predict the Target Variable\n",
    "\n",
    "1. **Train Models:**\n",
    "   - Train different machine learning models such as Logistic Regression, Random Forest, and Support Vector Machine."
   ]
  },
  {
   "cell_type": "code",
   "execution_count": null,
   "metadata": {},
   "outputs": [],
   "source": [
    "# write your code"
   ]
  },
  {
   "cell_type": "markdown",
   "metadata": {},
   "source": [
    "## Step 3: Evaluate Model Performance Using Appropriate Metrics\n",
    "\n",
    "1. **Evaluate Models:**\n",
    "   - Evaluate the performance of the models using metrics like accuracy, precision, recall, and F1-score."
   ]
  },
  {
   "cell_type": "code",
   "execution_count": null,
   "metadata": {},
   "outputs": [],
   "source": [
    "# write your code"
   ]
  },
  {
   "cell_type": "markdown",
   "metadata": {},
   "source": [
    "# **Task 5. Model Interpretation and Insights**\n"
   ]
  },
  {
   "cell_type": "markdown",
   "metadata": {},
   "source": [
    "## Step 1: Interpret the Model to Understand Which Factors Most Influence Water Quality\n",
    "1. **Feature Importance:**\n",
    "   - Use the feature importance scores from tree-based models like Random Forest to identify which factors most influence water quality.\n",
    "   - Use coefficients from Logistic Regression to understand the direction and magnitude of influence.\n",
    "\n",
    "## Step 2: Provide Actionable Insights Based on Model Findings\n",
    "\n",
    "1. **Identify Key Factors:**\n",
    "   - Determine the most important factors influencing water quality based on the model interpretation.\n",
    "\n",
    "2. **Actionable Insights:**\n",
    "   - Provide specific recommendations for addressing key factors to improve water quality.\n",
    "\n",
    "## Step 3: Discuss Potential Interventions or Policy Recommendations to Improve Water Quality\n",
    "\n",
    "1. **Interventions:**\n",
    "   - Suggest practical measures that can be taken to address the key factors influencing water quality.\n",
    "\n",
    "2. **Policy Recommendations:**\n",
    "   - Propose policy changes or initiatives to support the interventions and improve water quality on a broader scale.\n"
   ]
  },
  {
   "cell_type": "markdown",
   "metadata": {},
   "source": [
    "## Explanation:\n",
    "1. **Feature Importance**: Identify important features using Random Forest and Logistic Regression models.\n",
    "2. **Actionable Insights**: Provide recommendations based on the most influential factors.\n",
    "3. **Interventions and Policy Recommendations**: Suggest practical measures and policy changes to improve water quality."
   ]
  }
 ],
 "metadata": {
  "kernelspec": {
   "display_name": "python12",
   "language": "python",
   "name": "python3"
  },
  "language_info": {
   "codemirror_mode": {
    "name": "ipython",
    "version": 3
   },
   "file_extension": ".py",
   "mimetype": "text/x-python",
   "name": "python",
   "nbconvert_exporter": "python",
   "pygments_lexer": "ipython3",
   "version": "3.12.2"
  }
 },
 "nbformat": 4,
 "nbformat_minor": 2
}
